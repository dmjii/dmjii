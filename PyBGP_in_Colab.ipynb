{
  "nbformat": 4,
  "nbformat_minor": 0,
  "metadata": {
    "colab": {
      "provenance": [],
      "authorship_tag": "ABX9TyPP5mmQ47a09jARr4uCzwr1",
      "include_colab_link": true
    },
    "kernelspec": {
      "name": "python3",
      "display_name": "Python 3"
    },
    "language_info": {
      "name": "python"
    }
  },
  "cells": [
    {
      "cell_type": "markdown",
      "metadata": {
        "id": "view-in-github",
        "colab_type": "text"
      },
      "source": [
        "<a href=\"https://colab.research.google.com/github/dmjii/dmjii/blob/main/PyBGP_in_Colab.ipynb\" target=\"_parent\"><img src=\"https://colab.research.google.com/assets/colab-badge.svg\" alt=\"Open In Colab\"/></a>"
      ]
    },
    {
      "cell_type": "code",
      "execution_count": null,
      "metadata": {
        "colab": {
          "base_uri": "https://localhost:8080/"
        },
        "id": "p9GITeppmcOu",
        "outputId": "5803a2ac-0223-4fe0-8da9-90189b88342f"
      },
      "outputs": [
        {
          "output_type": "stream",
          "name": "stdout",
          "text": [
            "Python 3.10.12\n"
          ]
        }
      ],
      "source": [
        "!python --version"
      ]
    },
    {
      "cell_type": "markdown",
      "source": [
        "Install Pybgpstream - test"
      ],
      "metadata": {
        "id": "Eg0mohiFo2BR"
      }
    },
    {
      "cell_type": "code",
      "source": [
        "!apt-get install -y curl apt-transport-https ssl-cert ca-certificates gnupg lsb-release"
      ],
      "metadata": {
        "colab": {
          "base_uri": "https://localhost:8080/"
        },
        "id": "oL3r2jGzo1Fa",
        "outputId": "e7b4d1b7-830d-4ce7-b5d4-058bac3b228a"
      },
      "execution_count": 9,
      "outputs": [
        {
          "output_type": "stream",
          "name": "stdout",
          "text": [
            "Reading package lists... Done\n",
            "Building dependency tree... Done\n",
            "Reading state information... Done\n",
            "lsb-release is already the newest version (11.1.0ubuntu4).\n",
            "lsb-release set to manually installed.\n",
            "ca-certificates is already the newest version (20240203~22.04.1).\n",
            "curl is already the newest version (7.81.0-1ubuntu1.19).\n",
            "gnupg is already the newest version (2.2.27-3ubuntu2.1).\n",
            "gnupg set to manually installed.\n",
            "The following NEW packages will be installed:\n",
            "  apt-transport-https ssl-cert\n",
            "0 upgraded, 2 newly installed, 0 to remove and 49 not upgraded.\n",
            "Need to get 18.9 kB of archives.\n",
            "After this operation, 236 kB of additional disk space will be used.\n",
            "Get:1 http://archive.ubuntu.com/ubuntu jammy-updates/universe amd64 apt-transport-https all 2.4.13 [1,510 B]\n",
            "Get:2 http://archive.ubuntu.com/ubuntu jammy/main amd64 ssl-cert all 1.1.2 [17.4 kB]\n",
            "Fetched 18.9 kB in 1s (37.4 kB/s)\n",
            "Preconfiguring packages ...\n",
            "Selecting previously unselected package apt-transport-https.\n",
            "(Reading database ... 123630 files and directories currently installed.)\n",
            "Preparing to unpack .../apt-transport-https_2.4.13_all.deb ...\n",
            "Unpacking apt-transport-https (2.4.13) ...\n",
            "Selecting previously unselected package ssl-cert.\n",
            "Preparing to unpack .../ssl-cert_1.1.2_all.deb ...\n",
            "Unpacking ssl-cert (1.1.2) ...\n",
            "Setting up apt-transport-https (2.4.13) ...\n",
            "Setting up ssl-cert (1.1.2) ...\n",
            "Processing triggers for man-db (2.10.2-1) ...\n"
          ]
        }
      ]
    },
    {
      "cell_type": "code",
      "source": [
        "!curl -1sLf 'https://dl.cloudsmith.io/public/wand/libwandio/cfg/setup/bash.deb.sh' | sudo -E bash"
      ],
      "metadata": {
        "colab": {
          "base_uri": "https://localhost:8080/"
        },
        "id": "yYCsjDe6qoXY",
        "outputId": "6d8c99a5-90b5-4480-d5eb-3d89b7321ea8"
      },
      "execution_count": 11,
      "outputs": [
        {
          "output_type": "stream",
          "name": "stdout",
          "text": [
            "Executing the  setup script for the 'wand/libwandio' repository ...\n",
            "\n",
            "\u001b[1K\r\u001b[32m  RUN\u001b[39;49m: Checking for required executable 'curl' ...\u001b[1K\r\u001b[1K\r\u001b[32m   OK\u001b[39;49m: Checking for required executable 'curl' ...\n",
            "\u001b[1K\r\u001b[32m  RUN\u001b[39;49m: Checking for required executable 'apt-get' ...\u001b[1K\r\u001b[1K\r\u001b[32m   OK\u001b[39;49m: Checking for required executable 'apt-get' ...\n",
            "\u001b[1K\r\u001b[32m  RUN\u001b[39;49m: \u001b[1K\r\u001b[1K\r\u001b[32m   OK\u001b[39;49m: Detecting your OS distribution and release using system methods ...\n",
            " ^^^^: ... Detected/provided for your OS/distribution, version and architecture:\n",
            " >>>>:\n",
            " >>>>: ... distro=\u001b[32mubuntu\u001b[39;49m  version=\u001b[32m22.04\u001b[39;49m  codename=\u001b[32mjammy\u001b[39;49m  arch=\u001b[32mx86_64\u001b[39;49m  \n",
            " >>>>:\n",
            "\u001b[1K\r\u001b[32m  RUN\u001b[39;49m: Checking for apt dependency 'apt-transport-https' ...\u001b[1K\r\u001b[1K\r\u001b[32m   OK\u001b[39;49m: Checking for apt dependency 'apt-transport-https' ...\n",
            "\u001b[32m   OK\u001b[39;49m: Checking for apt dependency 'ca-certificates' ...\n",
            "\u001b[32m   OK\u001b[39;49m: Checking for apt dependency 'gnupg' ...\n",
            "\u001b[32m   OK\u001b[39;49m: Checking for apt signed-by key support ...\n",
            "\u001b[32m   OK\u001b[39;49m: Importing 'wand/libwandio' repository GPG keys ...\n",
            "\u001b[32m   OK\u001b[39;49m: Checking if upstream install config is OK ...\n",
            "\u001b[32m   OK\u001b[39;49m: Installing 'wand/libwandio' repository via apt ...\n",
            "\u001b[32m   OK\u001b[39;49m: Updating apt repository metadata cache ...\n",
            "\u001b[32m   OK\u001b[39;49m: The repository has been installed successfully - You're ready to rock!\n",
            "\n"
          ]
        }
      ]
    },
    {
      "cell_type": "code",
      "source": [
        "!echo \"deb https://pkg.caida.org/os/$(lsb_release -si|awk '{print tolower($0)}') $(lsb_release -sc) main\" | sudo tee /etc/apt/sources.list.d/caida.list\n",
        "!sudo wget -O /etc/apt/trusted.gpg.d/caida.gpg https://pkg.caida.org/os/ubuntu/keyring.gpg"
      ],
      "metadata": {
        "colab": {
          "base_uri": "https://localhost:8080/"
        },
        "id": "4u9YyHeZq2QR",
        "outputId": "01582a1a-8321-4106-9669-4b9bf179a9ee"
      },
      "execution_count": 12,
      "outputs": [
        {
          "output_type": "stream",
          "name": "stdout",
          "text": [
            "deb https://pkg.caida.org/os/ubuntu jammy main\n",
            "--2024-11-25 00:14:36--  https://pkg.caida.org/os/ubuntu/keyring.gpg\n",
            "Resolving pkg.caida.org (pkg.caida.org)... 192.172.226.26, 192.172.226.21, 192.172.226.6\n",
            "Connecting to pkg.caida.org (pkg.caida.org)|192.172.226.26|:443... connected.\n",
            "HTTP request sent, awaiting response... 200 OK\n",
            "Length: 2310 (2.3K) [application/octet-stream]\n",
            "Saving to: ‘/etc/apt/trusted.gpg.d/caida.gpg’\n",
            "\n",
            "/etc/apt/trusted.gp 100%[===================>]   2.26K  --.-KB/s    in 0s      \n",
            "\n",
            "2024-11-25 00:14:37 (1.11 GB/s) - ‘/etc/apt/trusted.gpg.d/caida.gpg’ saved [2310/2310]\n",
            "\n"
          ]
        }
      ]
    },
    {
      "cell_type": "code",
      "source": [
        "!curl -s https://pkg.caida.org/os/$(lsb_release -si|awk '{print tolower($0)}')/bootstrap.sh | bash"
      ],
      "metadata": {
        "colab": {
          "base_uri": "https://localhost:8080/"
        },
        "id": "McdvDE9Dq9Yl",
        "outputId": "4e29741a-93f7-4845-bc09-0ab45671043b"
      },
      "execution_count": 13,
      "outputs": [
        {
          "output_type": "stream",
          "name": "stdout",
          "text": [
            "\r0% [Working]\r            \rHit:1 http://security.ubuntu.com/ubuntu jammy-security InRelease\n",
            "\r0% [Waiting for headers] [Connected to cloud.r-project.org (18.154.101.112)] [C\r                                                                               \rHit:2 http://archive.ubuntu.com/ubuntu jammy InRelease\n",
            "\r0% [Waiting for headers] [Connected to cloud.r-project.org (18.154.101.112)] [C\r                                                                               \rHit:3 http://archive.ubuntu.com/ubuntu jammy-updates InRelease\n",
            "\r0% [Waiting for headers] [Waiting for headers] [Connected to r2u.stat.illinois.\r                                                                               \rHit:4 https://cloud.r-project.org/bin/linux/ubuntu jammy-cran40/ InRelease\n",
            "\r0% [Waiting for headers] [Connected to r2u.stat.illinois.edu (192.17.190.167)] \r                                                                               \rHit:5 http://archive.ubuntu.com/ubuntu jammy-backports InRelease\n",
            "\r0% [Waiting for headers] [Connected to pkg.caida.org (192.172.226.26)] [Waiting\r                                                                               \rHit:6 https://developer.download.nvidia.com/compute/cuda/repos/ubuntu2204/x86_64  InRelease\n",
            "Hit:7 https://r2u.stat.illinois.edu/ubuntu jammy InRelease\n",
            "Get:8 https://dl.cloudsmith.io/public/wand/libwandio/deb/ubuntu jammy InRelease [2,943 B]\n",
            "Get:9 https://pkg.caida.org/os/ubuntu jammy InRelease [3,546 B]\n",
            "Hit:10 https://ppa.launchpadcontent.net/deadsnakes/ppa/ubuntu jammy InRelease\n",
            "Hit:11 https://ppa.launchpadcontent.net/graphics-drivers/ppa/ubuntu jammy InRelease\n",
            "Hit:12 https://ppa.launchpadcontent.net/ubuntugis/ppa/ubuntu jammy InRelease\n",
            "Get:13 https://pkg.caida.org/os/ubuntu jammy/main amd64 Packages [4,675 B]\n",
            "Fetched 11.2 kB in 2s (6,403 B/s)\n",
            "Reading package lists... Done\n",
            "W: Skipping acquire of configured file 'main/source/Sources' as repository 'https://r2u.stat.illinois.edu/ubuntu jammy InRelease' does not seem to provide it (sources.list entry misspelt?)\n",
            "Reading package lists... Done\n",
            "Building dependency tree... Done\n",
            "Reading state information... Done\n",
            "ssl-cert is already the newest version (1.1.2).\n",
            "ca-certificates is already the newest version (20240203~22.04.1).\n",
            "curl is already the newest version (7.81.0-1ubuntu1.19).\n",
            "gnupg is already the newest version (2.2.27-3ubuntu2.1).\n",
            "apt-transport-https is already the newest version (2.4.13).\n",
            "0 upgraded, 0 newly installed, 0 to remove and 49 not upgraded.\n",
            "Executing the  setup script for the 'wand/libtrace' repository ...\n",
            "\n",
            "\u001b[32m   OK\u001b[39;49m: Checking for required executable 'curl' ...\n",
            "\u001b[32m   OK\u001b[39;49m: Checking for required executable 'apt-get' ...\n",
            "\u001b[32m   OK\u001b[39;49m: Detecting your OS distribution and release using system methods ...\n",
            " ^^^^: ... Detected/provided for your OS/distribution, version and architecture:\n",
            " >>>>:\n",
            " >>>>: ... distro=\u001b[32mubuntu\u001b[39;49m  version=\u001b[32m22.04\u001b[39;49m  codename=\u001b[32mjammy\u001b[39;49m  arch=\u001b[32mx86_64\u001b[39;49m  \n",
            " >>>>:\n",
            "\u001b[32m   OK\u001b[39;49m: Checking for apt dependency 'apt-transport-https' ...\n",
            "\u001b[32m   OK\u001b[39;49m: Checking for apt dependency 'ca-certificates' ...\n",
            "\u001b[32m   OK\u001b[39;49m: Checking for apt dependency 'gnupg' ...\n",
            "\u001b[32m   OK\u001b[39;49m: Checking for apt signed-by key support ...\n",
            "\u001b[32m   OK\u001b[39;49m: Importing 'wand/libtrace' repository GPG keys ...\n",
            "\u001b[32m   OK\u001b[39;49m: Checking if upstream install config is OK ...\n",
            "\u001b[32m   OK\u001b[39;49m: Installing 'wand/libtrace' repository via apt ...\n",
            "\u001b[32m   OK\u001b[39;49m: Updating apt repository metadata cache ...\n",
            "\u001b[32m   OK\u001b[39;49m: The repository has been installed successfully - You're ready to rock!\n",
            "\n",
            "Executing the  setup script for the 'wand/libwandder' repository ...\n",
            "\n",
            "\u001b[32m   OK\u001b[39;49m: Checking for required executable 'curl' ...\n",
            "\u001b[32m   OK\u001b[39;49m: Checking for required executable 'apt-get' ...\n",
            "\u001b[32m   OK\u001b[39;49m: Detecting your OS distribution and release using system methods ...\n",
            " ^^^^: ... Detected/provided for your OS/distribution, version and architecture:\n",
            " >>>>:\n",
            " >>>>: ... distro=\u001b[32mubuntu\u001b[39;49m  version=\u001b[32m22.04\u001b[39;49m  codename=\u001b[32mjammy\u001b[39;49m  arch=\u001b[32mx86_64\u001b[39;49m  \n",
            " >>>>:\n",
            "\u001b[32m   OK\u001b[39;49m: Checking for apt dependency 'apt-transport-https' ...\n",
            "\u001b[32m   OK\u001b[39;49m: Checking for apt dependency 'ca-certificates' ...\n",
            "\u001b[32m   OK\u001b[39;49m: Checking for apt dependency 'gnupg' ...\n",
            "\u001b[32m   OK\u001b[39;49m: Checking for apt signed-by key support ...\n",
            "\u001b[32m   OK\u001b[39;49m: Importing 'wand/libwandder' repository GPG keys ...\n",
            "\u001b[32m   OK\u001b[39;49m: Checking if upstream install config is OK ...\n",
            "\u001b[32m   OK\u001b[39;49m: Installing 'wand/libwandder' repository via apt ...\n",
            "\u001b[32m   OK\u001b[39;49m: Updating apt repository metadata cache ...\n",
            "\u001b[32m   OK\u001b[39;49m: The repository has been installed successfully - You're ready to rock!\n",
            "\n",
            "Hit:1 http://archive.ubuntu.com/ubuntu jammy InRelease\n",
            "Hit:2 http://archive.ubuntu.com/ubuntu jammy-updates InRelease\n",
            "Hit:3 http://archive.ubuntu.com/ubuntu jammy-backports InRelease\n",
            "Hit:4 https://cloud.r-project.org/bin/linux/ubuntu jammy-cran40/ InRelease\n",
            "Hit:5 https://developer.download.nvidia.com/compute/cuda/repos/ubuntu2204/x86_64  InRelease\n",
            "Hit:6 http://security.ubuntu.com/ubuntu jammy-security InRelease\n",
            "Hit:7 https://r2u.stat.illinois.edu/ubuntu jammy InRelease\n",
            "Hit:8 https://pkg.caida.org/os/ubuntu jammy InRelease\n",
            "Get:9 https://dl.cloudsmith.io/public/wand/libtrace/deb/ubuntu jammy InRelease [2,771 B]\n",
            "Hit:10 https://ppa.launchpadcontent.net/deadsnakes/ppa/ubuntu jammy InRelease\n",
            "Hit:11 https://ppa.launchpadcontent.net/graphics-drivers/ppa/ubuntu jammy InRelease\n",
            "Hit:12 https://ppa.launchpadcontent.net/ubuntugis/ppa/ubuntu jammy InRelease\n",
            "Get:13 https://dl.cloudsmith.io/public/wand/libwandder/deb/ubuntu jammy InRelease [2,773 B]\n",
            "Get:14 https://dl.cloudsmith.io/public/wand/libwandio/deb/ubuntu jammy InRelease [2,943 B]\n",
            "Fetched 8,487 B in 2s (3,927 B/s)\n",
            "Reading package lists... Done\n",
            "W: Skipping acquire of configured file 'main/source/Sources' as repository 'https://r2u.stat.illinois.edu/ubuntu jammy InRelease' does not seem to provide it (sources.list entry misspelt?)\n"
          ]
        }
      ]
    },
    {
      "cell_type": "code",
      "source": [
        "!sudo apt update; sudo apt-get install bgpstream"
      ],
      "metadata": {
        "colab": {
          "base_uri": "https://localhost:8080/"
        },
        "id": "T73D_dTCrJua",
        "outputId": "ad2778d5-1ada-4438-ae25-3a5f1c0696b7"
      },
      "execution_count": 14,
      "outputs": [
        {
          "output_type": "stream",
          "name": "stdout",
          "text": [
            "\u001b[33m\r0% [Working]\u001b[0m\r            \rHit:1 http://archive.ubuntu.com/ubuntu jammy InRelease\n",
            "\u001b[33m\r0% [Waiting for headers] [Connecting to security.ubuntu.com (185.125.190.83)] [\u001b[0m\r                                                                               \rHit:2 https://cloud.r-project.org/bin/linux/ubuntu jammy-cran40/ InRelease\n",
            "\u001b[33m\r0% [Waiting for headers] [Connecting to security.ubuntu.com (185.125.190.83)] [\u001b[0m\r                                                                               \rHit:3 http://archive.ubuntu.com/ubuntu jammy-updates InRelease\n",
            "\u001b[33m\r0% [Waiting for headers] [Connecting to security.ubuntu.com (185.125.190.83)] [\u001b[0m\r                                                                               \rHit:4 http://archive.ubuntu.com/ubuntu jammy-backports InRelease\n",
            "\u001b[33m\r0% [Connecting to security.ubuntu.com (185.125.190.83)] [Waiting for headers] [\u001b[0m\r                                                                               \rHit:5 https://developer.download.nvidia.com/compute/cuda/repos/ubuntu2204/x86_64  InRelease\n",
            "\u001b[33m\r0% [Connecting to security.ubuntu.com (185.125.190.83)] [Waiting for headers] [\u001b[0m\r                                                                               \rHit:6 https://r2u.stat.illinois.edu/ubuntu jammy InRelease\n",
            "Get:7 https://dl.cloudsmith.io/public/wand/libtrace/deb/ubuntu jammy InRelease [2,771 B]\n",
            "Hit:8 http://security.ubuntu.com/ubuntu jammy-security InRelease\n",
            "Hit:9 https://pkg.caida.org/os/ubuntu jammy InRelease\n",
            "Get:10 https://dl.cloudsmith.io/public/wand/libwandder/deb/ubuntu jammy InRelease [2,773 B]\n",
            "Get:11 https://dl.cloudsmith.io/public/wand/libwandio/deb/ubuntu jammy InRelease [2,943 B]\n",
            "Hit:12 https://ppa.launchpadcontent.net/deadsnakes/ppa/ubuntu jammy InRelease\n",
            "Hit:13 https://ppa.launchpadcontent.net/graphics-drivers/ppa/ubuntu jammy InRelease\n",
            "Hit:14 https://ppa.launchpadcontent.net/ubuntugis/ppa/ubuntu jammy InRelease\n",
            "Fetched 8,487 B in 2s (4,685 B/s)\n",
            "Reading package lists... Done\n",
            "Building dependency tree... Done\n",
            "Reading state information... Done\n",
            "49 packages can be upgraded. Run 'apt list --upgradable' to see them.\n",
            "\u001b[1;33mW: \u001b[0mSkipping acquire of configured file 'main/source/Sources' as repository 'https://r2u.stat.illinois.edu/ubuntu jammy InRelease' does not seem to provide it (sources.list entry misspelt?)\u001b[0m\n",
            "Reading package lists... Done\n",
            "Building dependency tree... Done\n",
            "Reading state information... Done\n",
            "The following additional packages will be installed:\n",
            "  bgpstream2-tools libbgpstream2 libbgpstream2-dev liblzo2-2 librdkafka++1\n",
            "  librdkafka-dev librdkafka1 libwandio1\n",
            "The following NEW packages will be installed:\n",
            "  bgpstream bgpstream2-tools libbgpstream2 libbgpstream2-dev liblzo2-2\n",
            "  librdkafka++1 librdkafka-dev librdkafka1 libwandio1\n",
            "0 upgraded, 9 newly installed, 0 to remove and 49 not upgraded.\n",
            "Need to get 1,793 kB of archives.\n",
            "After this operation, 7,706 kB of additional disk space will be used.\n",
            "Get:1 http://archive.ubuntu.com/ubuntu jammy/main amd64 liblzo2-2 amd64 2.10-2build3 [53.7 kB]\n",
            "Get:2 http://archive.ubuntu.com/ubuntu jammy/universe amd64 librdkafka1 amd64 1.8.0-1build1 [633 kB]\n",
            "Get:3 http://archive.ubuntu.com/ubuntu jammy/universe amd64 librdkafka++1 amd64 1.8.0-1build1 [42.0 kB]\n",
            "Get:4 http://archive.ubuntu.com/ubuntu jammy/universe amd64 librdkafka-dev amd64 1.8.0-1build1 [805 kB]\n",
            "Get:5 https://pkg.caida.org/os/ubuntu jammy/main amd64 libbgpstream2 amd64 2.3.0 [193 kB]\n",
            "Get:6 https://pkg.caida.org/os/ubuntu jammy/main amd64 bgpstream2-tools amd64 2.3.0 [11.1 kB]\n",
            "Get:7 https://pkg.caida.org/os/ubuntu jammy/main amd64 libbgpstream2-dev amd64 2.3.0 [22.9 kB]\n",
            "Get:8 https://pkg.caida.org/os/ubuntu jammy/main amd64 bgpstream amd64 2.3.0 [2,904 B]\n",
            "Get:9 https://dl.cloudsmith.io/public/wand/libwandio/deb/ubuntu jammy/main amd64 libwandio1 amd64 4.2.6-1 [29.3 kB]\n",
            "Fetched 1,793 kB in 1s (1,755 kB/s)\n",
            "debconf: unable to initialize frontend: Dialog\n",
            "debconf: (No usable dialog-like program is installed, so the dialog based frontend cannot be used. at /usr/share/perl5/Debconf/FrontEnd/Dialog.pm line 78, <> line 9.)\n",
            "debconf: falling back to frontend: Readline\n",
            "debconf: unable to initialize frontend: Readline\n",
            "debconf: (This frontend requires a controlling tty.)\n",
            "debconf: falling back to frontend: Teletype\n",
            "dpkg-preconfigure: unable to re-open stdin: \n",
            "Selecting previously unselected package liblzo2-2:amd64.\n",
            "(Reading database ... 123643 files and directories currently installed.)\n",
            "Preparing to unpack .../0-liblzo2-2_2.10-2build3_amd64.deb ...\n",
            "Unpacking liblzo2-2:amd64 (2.10-2build3) ...\n",
            "Selecting previously unselected package libwandio1:amd64.\n",
            "Preparing to unpack .../1-libwandio1_4.2.6-1_amd64.deb ...\n",
            "Unpacking libwandio1:amd64 (4.2.6-1) ...\n",
            "Selecting previously unselected package librdkafka1:amd64.\n",
            "Preparing to unpack .../2-librdkafka1_1.8.0-1build1_amd64.deb ...\n",
            "Unpacking librdkafka1:amd64 (1.8.0-1build1) ...\n",
            "Selecting previously unselected package librdkafka++1:amd64.\n",
            "Preparing to unpack .../3-librdkafka++1_1.8.0-1build1_amd64.deb ...\n",
            "Unpacking librdkafka++1:amd64 (1.8.0-1build1) ...\n",
            "Selecting previously unselected package librdkafka-dev:amd64.\n",
            "Preparing to unpack .../4-librdkafka-dev_1.8.0-1build1_amd64.deb ...\n",
            "Unpacking librdkafka-dev:amd64 (1.8.0-1build1) ...\n",
            "Selecting previously unselected package libbgpstream2.\n",
            "Preparing to unpack .../5-libbgpstream2_2.3.0_amd64.deb ...\n",
            "Unpacking libbgpstream2 (2.3.0) ...\n",
            "Selecting previously unselected package bgpstream2-tools.\n",
            "Preparing to unpack .../6-bgpstream2-tools_2.3.0_amd64.deb ...\n",
            "Unpacking bgpstream2-tools (2.3.0) ...\n",
            "Selecting previously unselected package libbgpstream2-dev.\n",
            "Preparing to unpack .../7-libbgpstream2-dev_2.3.0_amd64.deb ...\n",
            "Unpacking libbgpstream2-dev (2.3.0) ...\n",
            "Selecting previously unselected package bgpstream.\n",
            "Preparing to unpack .../8-bgpstream_2.3.0_amd64.deb ...\n",
            "Unpacking bgpstream (2.3.0) ...\n",
            "Setting up liblzo2-2:amd64 (2.10-2build3) ...\n",
            "Setting up librdkafka1:amd64 (1.8.0-1build1) ...\n",
            "Setting up libwandio1:amd64 (4.2.6-1) ...\n",
            "Setting up librdkafka++1:amd64 (1.8.0-1build1) ...\n",
            "Setting up librdkafka-dev:amd64 (1.8.0-1build1) ...\n",
            "Setting up libbgpstream2 (2.3.0) ...\n",
            "Setting up bgpstream2-tools (2.3.0) ...\n",
            "Setting up libbgpstream2-dev (2.3.0) ...\n",
            "Setting up bgpstream (2.3.0) ...\n",
            "Processing triggers for libc-bin (2.35-0ubuntu3.4) ...\n",
            "/sbin/ldconfig.real: /usr/local/lib/libtbbmalloc_proxy.so.2 is not a symbolic link\n",
            "\n",
            "/sbin/ldconfig.real: /usr/local/lib/libhwloc.so.15 is not a symbolic link\n",
            "\n",
            "/sbin/ldconfig.real: /usr/local/lib/libtcm.so.1 is not a symbolic link\n",
            "\n",
            "/sbin/ldconfig.real: /usr/local/lib/libtbbbind.so.3 is not a symbolic link\n",
            "\n",
            "/sbin/ldconfig.real: /usr/local/lib/libumf.so.0 is not a symbolic link\n",
            "\n",
            "/sbin/ldconfig.real: /usr/local/lib/libtbb.so.12 is not a symbolic link\n",
            "\n",
            "/sbin/ldconfig.real: /usr/local/lib/libur_loader.so.0 is not a symbolic link\n",
            "\n",
            "/sbin/ldconfig.real: /usr/local/lib/libur_adapter_level_zero.so.0 is not a symbolic link\n",
            "\n",
            "/sbin/ldconfig.real: /usr/local/lib/libtbbbind_2_0.so.3 is not a symbolic link\n",
            "\n",
            "/sbin/ldconfig.real: /usr/local/lib/libtbbbind_2_5.so.3 is not a symbolic link\n",
            "\n",
            "/sbin/ldconfig.real: /usr/local/lib/libur_adapter_opencl.so.0 is not a symbolic link\n",
            "\n",
            "/sbin/ldconfig.real: /usr/local/lib/libtbbmalloc.so.2 is not a symbolic link\n",
            "\n",
            "/sbin/ldconfig.real: /usr/local/lib/libtcm_debug.so.1 is not a symbolic link\n",
            "\n"
          ]
        }
      ]
    },
    {
      "cell_type": "code",
      "source": [
        "%pip install pybgpstream"
      ],
      "metadata": {
        "colab": {
          "base_uri": "https://localhost:8080/"
        },
        "id": "aKjn31Y7rZLh",
        "outputId": "fa6af0d2-af1f-49b2-a1d9-4314040ecb46"
      },
      "execution_count": 18,
      "outputs": [
        {
          "output_type": "stream",
          "name": "stdout",
          "text": [
            "Collecting pybgpstream\n",
            "  Using cached pybgpstream-2.0.2.tar.gz (11 kB)\n",
            "  Preparing metadata (setup.py) ... \u001b[?25l\u001b[?25hdone\n",
            "Requirement already satisfied: python-dateutil in /usr/local/lib/python3.10/dist-packages (from pybgpstream) (2.8.2)\n",
            "Requirement already satisfied: six>=1.5 in /usr/local/lib/python3.10/dist-packages (from python-dateutil->pybgpstream) (1.16.0)\n",
            "Building wheels for collected packages: pybgpstream\n",
            "  Building wheel for pybgpstream (setup.py) ... \u001b[?25l\u001b[?25hdone\n",
            "  Created wheel for pybgpstream: filename=pybgpstream-2.0.2-cp310-cp310-linux_x86_64.whl size=42833 sha256=298452c3e0222258e9569a49b4d6cf2263eba3b08fd24118a333da7ba581053e\n",
            "  Stored in directory: /root/.cache/pip/wheels/57/0d/00/22378a1fcb44da214fad8118b5b39b2332604869b484de4813\n",
            "Successfully built pybgpstream\n",
            "Installing collected packages: pybgpstream\n",
            "Successfully installed pybgpstream-2.0.2\n"
          ]
        }
      ]
    },
    {
      "cell_type": "code",
      "source": [
        "!pip show pybgpstream\n"
      ],
      "metadata": {
        "colab": {
          "base_uri": "https://localhost:8080/"
        },
        "id": "LpfKyObysDfk",
        "outputId": "b2d0b9e7-4da9-4bde-a606-d35acf6b5855"
      },
      "execution_count": 19,
      "outputs": [
        {
          "output_type": "stream",
          "name": "stdout",
          "text": [
            "Name: pybgpstream\n",
            "Version: 2.0.2\n",
            "Summary: A Python interface to BGPStream\n",
            "Home-page: http://bgpstream.caida.org\n",
            "Author: Alistair King\n",
            "Author-email: bgpstream-info@caida.org\n",
            "License: BSD\n",
            "Location: /usr/local/lib/python3.10/dist-packages\n",
            "Requires: python-dateutil\n",
            "Required-by: \n"
          ]
        }
      ]
    }
  ]
}